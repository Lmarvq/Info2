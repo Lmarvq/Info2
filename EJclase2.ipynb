{
 "cells": [
  {
   "cell_type": "markdown",
   "metadata": {},
   "source": [
    "Ejemplo de la herencia, clases de aves"
   ]
  },
  {
   "cell_type": "code",
   "execution_count": 3,
   "metadata": {},
   "outputs": [],
   "source": [
    "class ave:\n",
    "    def __init__(self, tipo, vuela):\n",
    "        self.ave= tipo #Que es lo que come\n",
    "        self.vuelo = vuela\n",
    "        self.oviparos= True\n",
    "        self.pico= True\n",
    "\n",
    "        def comer ( self,comida):\n",
    "            print(\"Este tipo de ave come normalmente : \", comida)\n",
    "        def volar (self):\n",
    "            print(\"Este tipo de ave puede volar: \", self.vuelo)"
   ]
  },
  {
   "cell_type": "code",
   "execution_count": 4,
   "metadata": {},
   "outputs": [],
   "source": [
    "class ganso(ave):\n",
    "    def __init__(self, tipo, vuela, accion, pata):\n",
    "        ave.__init__(self, tipo, vuela)\n",
    "        self.habilidad = accion\n",
    "        self.patas = pata\n",
    "    \n",
    "        def destreza(self):\n",
    "            print(\"esta ave puede: \", self.habilidad)\n",
    "        "
   ]
  },
  {
   "cell_type": "code",
   "execution_count": 7,
   "metadata": {},
   "outputs": [
    {
     "data": {
      "text/plain": [
       "'Insectivora'"
      ]
     },
     "execution_count": 7,
     "metadata": {},
     "output_type": "execute_result"
    }
   ],
   "source": [
    "v1 = ganso(ave, vuela = \"SI\", accion = \"nadar\", pata = 2 )\n",
    "v1.ave = \"Insectivora\"\n",
    "v1.ave"
   ]
  }
 ],
 "metadata": {
  "kernelspec": {
   "display_name": "Python 3",
   "language": "python",
   "name": "python3"
  },
  "language_info": {
   "codemirror_mode": {
    "name": "ipython",
    "version": 3
   },
   "file_extension": ".py",
   "mimetype": "text/x-python",
   "name": "python",
   "nbconvert_exporter": "python",
   "pygments_lexer": "ipython3",
   "version": "3.11.4"
  },
  "orig_nbformat": 4
 },
 "nbformat": 4,
 "nbformat_minor": 2
}
